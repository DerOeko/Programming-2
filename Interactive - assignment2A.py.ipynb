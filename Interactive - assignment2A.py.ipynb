{
 "cells": [
  {
   "cell_type": "markdown",
   "metadata": {
    "isInteractiveWindowMessageCell": true
   },
   "source": [
    "Connected to base (Python 3.10.8)"
   ]
  },
  {
   "cell_type": "code",
   "execution_count": 1,
   "metadata": {},
   "outputs": [
    {
     "name": "stdout",
     "output_type": "stream",
     "text": [
      "[[2 7 6]\n",
      " [9 5 1]\n",
      " [4 3 8]]\n"
     ]
    },
    {
     "data": {
      "image/png": "[encoded data removed]",
      "text/plain": [
       "<Figure size 640x480 with 1 Axes>"
      ]
     },
     "metadata": {},
     "output_type": "display_data"
    }
   ],
   "source": [
    "#!/usr/bin/env python3\n",
    "# -*- coding: utf-8 -*-\n",
    "\n",
    "import numpy as np\n",
    "import random as rnd\n",
    "\n",
    "# maybe you need to install matplotlib\n",
    "# pip install matplotlib\n",
    "import matplotlib.pyplot as plt \n",
    "\n",
    "\n",
    "def random_array(a: int, b: int, n: int):\n",
    "    \"\"\"\n",
    "    DESCRIPTION\n",
    "\n",
    "    Parameters\n",
    "    ----------\n",
    "    a: int\n",
    "        DESCRIPTION.\n",
    "    b: int\n",
    "        DESCRIPTION.\n",
    "    n: int\n",
    "        DESCRIPTION.\n",
    "\n",
    "    Returns\n",
    "    -------\n",
    "    random_array: int\n",
    "        DESCRIPTION.\n",
    "\n",
    "    \"\"\"\n",
    "    if a > b:\n",
    "        array = np.random.randint(b, a + 1, size = n, dtype = np.uint32)\n",
    "    else:\n",
    "        array = np.random.randint(a, b + 1, size = n, dtype = np.uint32)\n",
    "    \n",
    "\n",
    "    return array\n",
    "\n",
    "\n",
    "\n",
    "def element_mult(x: np.ndarray, y: np.ndarray):\n",
    "    if len(x) != len(y):\n",
    "        return None\n",
    "    else:\n",
    "        z = []\n",
    "        for i in range(len(x)):\n",
    "            z.append(x[i] * y[i]) \n",
    "            \n",
    "    return np.asarray(z)\n",
    "\n",
    "\n",
    "def find_max(x: np.ndarray):\n",
    "    for n in x:\n",
    "        if n < 0:\n",
    "            return None\n",
    "    max_number = x[0]\n",
    "    max_index = 0\n",
    "    for i in range(len(x)):\n",
    "        if x[i] >= max_number:\n",
    "            max_index = i\n",
    "            max_number = x[i]       \n",
    "    \n",
    "    return max_index\n",
    "\n",
    "\n",
    "    \n",
    "def transpose(x: np.ndarray):\n",
    "    y = np.zeros((x.shape[1], x.shape[0]), dtype = int)\n",
    "\n",
    "    for row in range(x.shape[0]):\n",
    "        for col in range(x.shape[1]):\n",
    "            y[col, row] = x[row, col]    \n",
    "    return y\n",
    "\n",
    "def is_square(x: np.ndarray):\n",
    "    if len(x.shape) == 1:\n",
    "        if len(x) == 1:\n",
    "            return True\n",
    "        else:\n",
    "            return False\n",
    "        \n",
    "    for i in range(len(x.shape)):\n",
    "        if x.shape[i] != x.shape[0]:\n",
    "            return False\n",
    "\n",
    "    return True\n",
    "\n",
    "    \n",
    "def is_magic(x: np.ndarray):\n",
    "    \n",
    "    if len(x.shape) != 2 or not is_square(x):\n",
    "        return None\n",
    "    \n",
    "    row_sum = x[0, :].sum()\n",
    "\n",
    "    # row check\n",
    "    \n",
    "    for i in range(x.shape[0]):\n",
    "        if row_sum != x[i, :].sum():\n",
    "            return False\n",
    "    \n",
    "    # column check\n",
    "    \n",
    "    for i in range(x.shape[1]):\n",
    "        if row_sum != x[:, i].sum():\n",
    "            return False\n",
    "        \n",
    "    # descending diag check\n",
    "    diag_sum = 0\n",
    "    \n",
    "    for col in range(x.shape[1]):\n",
    "        diag_sum += x[col, col]\n",
    "    \n",
    "    if diag_sum != row_sum:\n",
    "        return False\n",
    "    \n",
    "    diag_sum = 0\n",
    "    \n",
    "    for i in range(x.shape[1]):\n",
    "        diag_sum += x[0+i, x.shape[0]-1-i]\n",
    "        \n",
    "    if diag_sum != row_sum:\n",
    "        return False\n",
    "    \n",
    "    \n",
    "    return True\n",
    "    \n",
    "    \n",
    "def main():\n",
    "    \"\"\"\n",
    "    Main function\n",
    "    \"\"\"\n",
    "    x = np.arange(10)\n",
    "    \n",
    "    try:\n",
    "        # if your functions are working properly, you can implement changes in \n",
    "        # main() here\n",
    "        \n",
    "        y = random_array(0, 100, 10)\n",
    "        # imax = find_max(y)\n",
    "        mean = np.mean(y)\n",
    "    \n",
    "        plt.plot(x, y, 'ko-')\n",
    "        i, = np.where(y>mean)\n",
    "        plt.plot(i, y[i], 'ro')\n",
    "    except:\n",
    "        \n",
    "        # if your functions are not working properly, you can implement changes\n",
    "        # in main() here:\n",
    "            \n",
    "        y = np.arange(100).reshape((4,25)).T.flatten()[0:10]\n",
    "        imax = 7\n",
    "        plt.plot(x, y, 'ko-')\n",
    "        plt.plot(x[imax], y[imax], 'ro')\n",
    "            \n",
    "    \n",
    "    # Example of magic matrix\n",
    "    x = np.array([[2,7,6],[9,5,1],[4,3,8]])        \n",
    "    print(x)\n",
    "    \n",
    "    return None\n",
    "    \n",
    "\n",
    "# The main body of your program should only call the main() function like this:\n",
    "if __name__==\"__main__\":    \n",
    "    main()"
   ]
  },
  {
   "cell_type": "code",
   "execution_count": 2,
   "metadata": {},
   "outputs": [],
   "source": [
    "x = random_array(1,5, 10)"
   ]
  },
  {
   "cell_type": "code",
   "execution_count": 3,
   "metadata": {},
   "outputs": [
    {
     "data": {
      "text/plain": [
       "array([4, 3, 3, 2, 2, 1, 5, 4, 2, 1], dtype=uint32)"
      ]
     },
     "execution_count": 3,
     "metadata": {},
     "output_type": "execute_result"
    }
   ],
   "source": [
    "x"
   ]
  },
  {
   "cell_type": "code",
   "execution_count": 4,
   "metadata": {},
   "outputs": [
    {
     "data": {
      "text/plain": [
       "dtype('uint32')"
      ]
     },
     "execution_count": 4,
     "metadata": {},
     "output_type": "execute_result"
    }
   ],
   "source": [
    "x.dtype"
   ]
  },
  {
   "cell_type": "code",
   "execution_count": 5,
   "metadata": {},
   "outputs": [
    {
     "data": {
      "text/plain": [
       "False"
      ]
     },
     "execution_count": 5,
     "metadata": {},
     "output_type": "execute_result"
    }
   ],
   "source": [
    "x.dtype == int"
   ]
  },
  {
   "cell_type": "code",
   "execution_count": 6,
   "metadata": {},
   "outputs": [
    {
     "data": {
      "text/plain": [
       "int"
      ]
     },
     "execution_count": 6,
     "metadata": {},
     "output_type": "execute_result"
    }
   ],
   "source": [
    "int"
   ]
  }
 ],
 "metadata": {
  "kernelspec": {
   "display_name": "base",
   "language": "python",
   "name": "python3"
  },
  "language_info": {
   "codemirror_mode": {
    "name": "ipython",
    "version": 3
   },
   "file_extension": ".py",
   "mimetype": "text/x-python",
   "name": "python",
   "nbconvert_exporter": "python",
   "pygments_lexer": "ipython3",
   "version": "3.10.8"
  }
 },
 "nbformat": 4,
 "nbformat_minor": 2
}
